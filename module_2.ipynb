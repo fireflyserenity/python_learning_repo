{
 "cells": [
  {
   "cell_type": "code",
   "execution_count": 2,
   "id": "b1afdf37",
   "metadata": {},
   "outputs": [
    {
     "data": {
      "text/plain": [
       "int"
      ]
     },
     "execution_count": 2,
     "metadata": {},
     "output_type": "execute_result"
    }
   ],
   "source": [
    "var1 = 10\n",
    "\n",
    "type(var1)"
   ]
  },
  {
   "cell_type": "code",
   "execution_count": 1,
   "id": "d113d73a",
   "metadata": {},
   "outputs": [
    {
     "data": {
      "text/plain": [
       "'value2'"
      ]
     },
     "execution_count": 1,
     "metadata": {},
     "output_type": "execute_result"
    }
   ],
   "source": [
    "list_1 = [\"10.25\", \"9\", \"this is a string\", [\"value1\",\"value2\"]]\n",
    "\n",
    "list_2 = list_1[-1][-1]\n",
    "\n",
    "list_2"
   ]
  },
  {
   "cell_type": "code",
   "execution_count": null,
   "id": "60d14b77",
   "metadata": {},
   "outputs": [],
   "source": []
  },
  {
   "cell_type": "code",
   "execution_count": 10,
   "id": "95d2f27e",
   "metadata": {},
   "outputs": [
    {
     "data": {
      "text/plain": [
       "'turquoise'"
      ]
     },
     "execution_count": 10,
     "metadata": {},
     "output_type": "execute_result"
    }
   ],
   "source": [
    "cols_1 = [\"10.25\", \"blue\", [\"green\", \"turquoise\", \"beige\"], 10]\n",
    "cols_2 = [\"purple\", \"orange\", cols_1, 100]\n",
    "\n",
    "# cols_1[2][::2]\n",
    "\n",
    "cols_2[2][2][1]"
   ]
  },
  {
   "cell_type": "code",
   "execution_count": 22,
   "id": "6fc2d7ca",
   "metadata": {},
   "outputs": [
    {
     "name": "stdout",
     "output_type": "stream",
     "text": [
      "['milk', 'bread']\n",
      "['milk', 'bread', ['cheese']]\n",
      "['milk', 'bread', ['cheese'], ['rice']]\n",
      "['milk', 'bread', ['rice']]\n"
     ]
    }
   ],
   "source": [
    "list_foods = [\"milk\", \"bread\"]\n",
    "\n",
    "print(list_foods)\n",
    "\n",
    "add_food = [\"cheese\"]\n",
    "\n",
    "list_foods.append(add_food)\n",
    "\n",
    "print(list_foods)\n",
    "\n",
    "extra_food = [\"rice\"]\n",
    "\n",
    "list_foods.append(extra_food)\n",
    "\n",
    "print(list_foods)\n",
    "\n",
    "list_foods.remove(add_food)\n",
    "\n",
    "print(list_foods)"
   ]
  },
  {
   "cell_type": "code",
   "execution_count": 29,
   "id": "17ee5052",
   "metadata": {},
   "outputs": [
    {
     "name": "stdout",
     "output_type": "stream",
     "text": [
      "{'Hong Kong': ['Noodles', 'Rice'], 'IndoHut': {'Monday': 'Satay', 'Tuesday': 'Peanut Curry'}, 'AussieBBQ': ['Prawns']}\n",
      "False\n"
     ]
    }
   ],
   "source": [
    "restaurants = {\"Hong Kong\":[\"Noodles\",\"Rice\"],\n",
    "               \"IndoHut\":{\"Monday\":\"Satay\", \"Tuesday\":\"Peanut Curry\"}}\n",
    "\n",
    "restaurants['AussieBBQ'] = [\"Prawns\"]\n",
    "\n",
    "print(restaurants)\n",
    "\n",
    "print(\"Coffee Shop\" in restaurants)"
   ]
  },
  {
   "cell_type": "code",
   "execution_count": null,
   "id": "8137ed9d",
   "metadata": {},
   "outputs": [],
   "source": []
  }
 ],
 "metadata": {
  "kernelspec": {
   "display_name": "Python 3",
   "language": "python",
   "name": "python3"
  },
  "language_info": {
   "codemirror_mode": {
    "name": "ipython",
    "version": 3
   },
   "file_extension": ".py",
   "mimetype": "text/x-python",
   "name": "python",
   "nbconvert_exporter": "python",
   "pygments_lexer": "ipython3",
   "version": "3.12.1"
  }
 },
 "nbformat": 4,
 "nbformat_minor": 5
}
